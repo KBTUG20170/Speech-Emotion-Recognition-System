{
 "cells": [
  {
   "cell_type": "markdown",
   "id": "40841c84-3c70-4492-96aa-546e4f7e2b0b",
   "metadata": {
    "tags": []
   },
   "source": [
    "<h2 style=\"color:orange;font-weight:bold;font-family:arial\">Speech Emotion Recognition System</h2>\n",
    "<h3 style=\"color:blue;font-weight:bold;font-family:arial\">Group 1</h3>"
   ]
  },
  {
   "cell_type": "markdown",
   "id": "701e5fe1-52dc-42cf-b6ad-cd784d394552",
   "metadata": {},
   "source": [
    "##### Samruddhi Khairnar - kbtug20170@kbtcoe.org \n",
    "##### Avichal Sharma - avichalsharma2003@gmail.com\n",
    "##### Yash Rokade - rokadeyash34@gmail.com\n",
    "##### Araya Gupta - arayagupta28@gmail.com\n",
    "##### Priyanshu Bisht - bisht.priyanshu05@gmail.com"
   ]
  },
  {
   "cell_type": "markdown",
   "id": "5c8974d8-1ebb-4d1c-8ecf-15b28c922540",
   "metadata": {},
   "source": [
    "#### **Imports** :"
   ]
  },
  {
   "cell_type": "code",
   "execution_count": 68,
   "id": "68a2d0b2-2ea9-413b-8157-6925f6799a30",
   "metadata": {},
   "outputs": [],
   "source": [
    "import pandas as pd\n",
    "import numpy as np\n",
    "import seaborn as sns\n",
    "import matplotlib.pyplot as plt"
   ]
  },
  {
   "cell_type": "markdown",
   "id": "96c29e6b-38b8-449d-a048-c3c010efd8be",
   "metadata": {},
   "source": [
    "#### **Loading the dataset** :"
   ]
  },
  {
   "cell_type": "code",
   "execution_count": 69,
   "id": "ec071e03-a918-4809-b748-db336bf319e3",
   "metadata": {},
   "outputs": [],
   "source": [
    "df = pd.read_csv('crema.csv')"
   ]
  },
  {
   "cell_type": "code",
   "execution_count": 70,
   "id": "da916ccc-9acf-46fc-a142-c606bf3d91b9",
   "metadata": {},
   "outputs": [
    {
     "data": {
      "text/html": [
       "<div>\n",
       "<style scoped>\n",
       "    .dataframe tbody tr th:only-of-type {\n",
       "        vertical-align: middle;\n",
       "    }\n",
       "\n",
       "    .dataframe tbody tr th {\n",
       "        vertical-align: top;\n",
       "    }\n",
       "\n",
       "    .dataframe thead th {\n",
       "        text-align: right;\n",
       "    }\n",
       "</style>\n",
       "<table border=\"1\" class=\"dataframe\">\n",
       "  <thead>\n",
       "    <tr style=\"text-align: right;\">\n",
       "      <th></th>\n",
       "      <th>actor</th>\n",
       "      <th>sentence</th>\n",
       "      <th>emotion</th>\n",
       "      <th>level</th>\n",
       "      <th>mfcc0</th>\n",
       "      <th>mfcc1</th>\n",
       "      <th>mfcc2</th>\n",
       "      <th>mfcc3</th>\n",
       "      <th>mfcc4</th>\n",
       "      <th>mfcc5</th>\n",
       "      <th>...</th>\n",
       "      <th>c_sync5b</th>\n",
       "      <th>c_sync6b</th>\n",
       "      <th>c_sync7b</th>\n",
       "      <th>c_sync8b</th>\n",
       "      <th>c_sync9b</th>\n",
       "      <th>c_sync10b</th>\n",
       "      <th>c_sync11b</th>\n",
       "      <th>spectral_bandwidth</th>\n",
       "      <th>spectral_rolloff</th>\n",
       "      <th>spectral_centroids</th>\n",
       "    </tr>\n",
       "  </thead>\n",
       "  <tbody>\n",
       "    <tr>\n",
       "      <th>0</th>\n",
       "      <td>1003</td>\n",
       "      <td>IEO</td>\n",
       "      <td>FEA</td>\n",
       "      <td>MD</td>\n",
       "      <td>-442.13385</td>\n",
       "      <td>148.66585</td>\n",
       "      <td>-12.393108</td>\n",
       "      <td>43.702293</td>\n",
       "      <td>-14.106911</td>\n",
       "      <td>31.666414</td>\n",
       "      <td>...</td>\n",
       "      <td>-0.094215</td>\n",
       "      <td>1.250412</td>\n",
       "      <td>-1.099822</td>\n",
       "      <td>1.336237</td>\n",
       "      <td>1.001362</td>\n",
       "      <td>0.901887</td>\n",
       "      <td>0.000000</td>\n",
       "      <td>1753.417589</td>\n",
       "      <td>2785.441081</td>\n",
       "      <td>1345.206303</td>\n",
       "    </tr>\n",
       "    <tr>\n",
       "      <th>1</th>\n",
       "      <td>1035</td>\n",
       "      <td>IEO</td>\n",
       "      <td>SAD</td>\n",
       "      <td>MD</td>\n",
       "      <td>-456.98022</td>\n",
       "      <td>147.26843</td>\n",
       "      <td>18.193262</td>\n",
       "      <td>57.780663</td>\n",
       "      <td>-19.561325</td>\n",
       "      <td>29.044651</td>\n",
       "      <td>...</td>\n",
       "      <td>1.346589</td>\n",
       "      <td>0.585666</td>\n",
       "      <td>1.374014</td>\n",
       "      <td>-1.194583</td>\n",
       "      <td>-1.352278</td>\n",
       "      <td>-0.954247</td>\n",
       "      <td>-0.486541</td>\n",
       "      <td>1832.596789</td>\n",
       "      <td>2824.083411</td>\n",
       "      <td>1185.014857</td>\n",
       "    </tr>\n",
       "    <tr>\n",
       "      <th>2</th>\n",
       "      <td>1007</td>\n",
       "      <td>TSI</td>\n",
       "      <td>DIS</td>\n",
       "      <td>XX</td>\n",
       "      <td>-370.19382</td>\n",
       "      <td>116.20629</td>\n",
       "      <td>17.901112</td>\n",
       "      <td>49.743855</td>\n",
       "      <td>-7.893039</td>\n",
       "      <td>19.238430</td>\n",
       "      <td>...</td>\n",
       "      <td>1.068119</td>\n",
       "      <td>-1.067556</td>\n",
       "      <td>0.899730</td>\n",
       "      <td>-1.146053</td>\n",
       "      <td>-1.357509</td>\n",
       "      <td>-0.927797</td>\n",
       "      <td>1.177180</td>\n",
       "      <td>1900.091707</td>\n",
       "      <td>3297.628568</td>\n",
       "      <td>1536.535534</td>\n",
       "    </tr>\n",
       "    <tr>\n",
       "      <th>3</th>\n",
       "      <td>1026</td>\n",
       "      <td>DFA</td>\n",
       "      <td>NEU</td>\n",
       "      <td>XX</td>\n",
       "      <td>-363.48978</td>\n",
       "      <td>135.66432</td>\n",
       "      <td>18.392607</td>\n",
       "      <td>44.086580</td>\n",
       "      <td>2.274494</td>\n",
       "      <td>8.899861</td>\n",
       "      <td>...</td>\n",
       "      <td>0.951838</td>\n",
       "      <td>1.411809</td>\n",
       "      <td>-1.418981</td>\n",
       "      <td>0.701826</td>\n",
       "      <td>-1.313619</td>\n",
       "      <td>1.568683</td>\n",
       "      <td>1.446087</td>\n",
       "      <td>1632.537361</td>\n",
       "      <td>2494.882437</td>\n",
       "      <td>1195.103489</td>\n",
       "    </tr>\n",
       "    <tr>\n",
       "      <th>4</th>\n",
       "      <td>1088</td>\n",
       "      <td>ITS</td>\n",
       "      <td>ANG</td>\n",
       "      <td>XX</td>\n",
       "      <td>-335.75950</td>\n",
       "      <td>108.33419</td>\n",
       "      <td>8.823876</td>\n",
       "      <td>42.977585</td>\n",
       "      <td>-8.425694</td>\n",
       "      <td>25.288710</td>\n",
       "      <td>...</td>\n",
       "      <td>-0.358800</td>\n",
       "      <td>-1.348718</td>\n",
       "      <td>-1.300794</td>\n",
       "      <td>-1.314174</td>\n",
       "      <td>0.339107</td>\n",
       "      <td>-1.547805</td>\n",
       "      <td>1.565587</td>\n",
       "      <td>1915.807117</td>\n",
       "      <td>3553.740832</td>\n",
       "      <td>1846.447807</td>\n",
       "    </tr>\n",
       "  </tbody>\n",
       "</table>\n",
       "<p>5 rows × 164 columns</p>\n",
       "</div>"
      ],
      "text/plain": [
       "   actor sentence emotion level      mfcc0      mfcc1      mfcc2      mfcc3  \\\n",
       "0   1003      IEO     FEA    MD -442.13385  148.66585 -12.393108  43.702293   \n",
       "1   1035      IEO     SAD    MD -456.98022  147.26843  18.193262  57.780663   \n",
       "2   1007      TSI     DIS    XX -370.19382  116.20629  17.901112  49.743855   \n",
       "3   1026      DFA     NEU    XX -363.48978  135.66432  18.392607  44.086580   \n",
       "4   1088      ITS     ANG    XX -335.75950  108.33419   8.823876  42.977585   \n",
       "\n",
       "       mfcc4      mfcc5  ...  c_sync5b  c_sync6b  c_sync7b  c_sync8b  \\\n",
       "0 -14.106911  31.666414  ... -0.094215  1.250412 -1.099822  1.336237   \n",
       "1 -19.561325  29.044651  ...  1.346589  0.585666  1.374014 -1.194583   \n",
       "2  -7.893039  19.238430  ...  1.068119 -1.067556  0.899730 -1.146053   \n",
       "3   2.274494   8.899861  ...  0.951838  1.411809 -1.418981  0.701826   \n",
       "4  -8.425694  25.288710  ... -0.358800 -1.348718 -1.300794 -1.314174   \n",
       "\n",
       "   c_sync9b  c_sync10b  c_sync11b  spectral_bandwidth  spectral_rolloff  \\\n",
       "0  1.001362   0.901887   0.000000         1753.417589       2785.441081   \n",
       "1 -1.352278  -0.954247  -0.486541         1832.596789       2824.083411   \n",
       "2 -1.357509  -0.927797   1.177180         1900.091707       3297.628568   \n",
       "3 -1.313619   1.568683   1.446087         1632.537361       2494.882437   \n",
       "4  0.339107  -1.547805   1.565587         1915.807117       3553.740832   \n",
       "\n",
       "   spectral_centroids  \n",
       "0         1345.206303  \n",
       "1         1185.014857  \n",
       "2         1536.535534  \n",
       "3         1195.103489  \n",
       "4         1846.447807  \n",
       "\n",
       "[5 rows x 164 columns]"
      ]
     },
     "execution_count": 70,
     "metadata": {},
     "output_type": "execute_result"
    }
   ],
   "source": [
    "df.head()"
   ]
  },
  {
   "cell_type": "markdown",
   "id": "61a739f1-a58b-4c3a-bbc7-6a69fe2072c1",
   "metadata": {},
   "source": [
    "#### **Plotting the number of records for each emotion** :"
   ]
  },
  {
   "cell_type": "code",
   "execution_count": 71,
   "id": "da37be23-9f36-4cc4-bb56-92c1b1ff7104",
   "metadata": {},
   "outputs": [
    {
     "data": {
      "image/png": "[encoded data removed]",
      "text/plain": [
       "<Figure size 400x300 with 1 Axes>"
      ]
     },
     "metadata": {},
     "output_type": "display_data"
    }
   ],
   "source": [
    "sns.set(rc={'figure.figsize':(4,3)})\n",
    "sns.countplot(x='emotion', data=df, palette='plasma');"
   ]
  },
  {
   "cell_type": "markdown",
   "id": "227d246c-acc1-495f-9813-cee2a59b310c",
   "metadata": {},
   "source": [
    "#### **One hot encoding the level feature, for training model** :"
   ]
  },
  {
   "cell_type": "code",
   "execution_count": 72,
   "id": "c9808877-b290-42c5-b236-ce3a83f5f430",
   "metadata": {},
   "outputs": [
    {
     "data": {
      "text/plain": [
       "array(['MD', 'XX', 'LO', 'HI', 'X'], dtype=object)"
      ]
     },
     "execution_count": 72,
     "metadata": {},
     "output_type": "execute_result"
    }
   ],
   "source": [
    "df.level.unique()"
   ]
  },
  {
   "cell_type": "code",
   "execution_count": 73,
   "id": "5e278a91-26ff-4a25-88b5-5a79e7628d27",
   "metadata": {},
   "outputs": [],
   "source": [
    "df = pd.get_dummies(df, columns=['level'])"
   ]
  },
  {
   "cell_type": "code",
   "execution_count": 74,
   "id": "7d161c67-5a3b-402e-adf2-92dabcf3e50f",
   "metadata": {},
   "outputs": [
    {
     "data": {
      "text/html": [
       "<div>\n",
       "<style scoped>\n",
       "    .dataframe tbody tr th:only-of-type {\n",
       "        vertical-align: middle;\n",
       "    }\n",
       "\n",
       "    .dataframe tbody tr th {\n",
       "        vertical-align: top;\n",
       "    }\n",
       "\n",
       "    .dataframe thead th {\n",
       "        text-align: right;\n",
       "    }\n",
       "</style>\n",
       "<table border=\"1\" class=\"dataframe\">\n",
       "  <thead>\n",
       "    <tr style=\"text-align: right;\">\n",
       "      <th></th>\n",
       "      <th>actor</th>\n",
       "      <th>sentence</th>\n",
       "      <th>emotion</th>\n",
       "      <th>mfcc0</th>\n",
       "      <th>mfcc1</th>\n",
       "      <th>mfcc2</th>\n",
       "      <th>mfcc3</th>\n",
       "      <th>mfcc4</th>\n",
       "      <th>mfcc5</th>\n",
       "      <th>mfcc6</th>\n",
       "      <th>...</th>\n",
       "      <th>c_sync10b</th>\n",
       "      <th>c_sync11b</th>\n",
       "      <th>spectral_bandwidth</th>\n",
       "      <th>spectral_rolloff</th>\n",
       "      <th>spectral_centroids</th>\n",
       "      <th>level_HI</th>\n",
       "      <th>level_LO</th>\n",
       "      <th>level_MD</th>\n",
       "      <th>level_X</th>\n",
       "      <th>level_XX</th>\n",
       "    </tr>\n",
       "  </thead>\n",
       "  <tbody>\n",
       "    <tr>\n",
       "      <th>0</th>\n",
       "      <td>1003</td>\n",
       "      <td>IEO</td>\n",
       "      <td>FEA</td>\n",
       "      <td>-442.13385</td>\n",
       "      <td>148.66585</td>\n",
       "      <td>-12.393108</td>\n",
       "      <td>43.702293</td>\n",
       "      <td>-14.106911</td>\n",
       "      <td>31.666414</td>\n",
       "      <td>-21.379318</td>\n",
       "      <td>...</td>\n",
       "      <td>0.901887</td>\n",
       "      <td>0.000000</td>\n",
       "      <td>1753.417589</td>\n",
       "      <td>2785.441081</td>\n",
       "      <td>1345.206303</td>\n",
       "      <td>0</td>\n",
       "      <td>0</td>\n",
       "      <td>1</td>\n",
       "      <td>0</td>\n",
       "      <td>0</td>\n",
       "    </tr>\n",
       "    <tr>\n",
       "      <th>1</th>\n",
       "      <td>1035</td>\n",
       "      <td>IEO</td>\n",
       "      <td>SAD</td>\n",
       "      <td>-456.98022</td>\n",
       "      <td>147.26843</td>\n",
       "      <td>18.193262</td>\n",
       "      <td>57.780663</td>\n",
       "      <td>-19.561325</td>\n",
       "      <td>29.044651</td>\n",
       "      <td>-16.329254</td>\n",
       "      <td>...</td>\n",
       "      <td>-0.954247</td>\n",
       "      <td>-0.486541</td>\n",
       "      <td>1832.596789</td>\n",
       "      <td>2824.083411</td>\n",
       "      <td>1185.014857</td>\n",
       "      <td>0</td>\n",
       "      <td>0</td>\n",
       "      <td>1</td>\n",
       "      <td>0</td>\n",
       "      <td>0</td>\n",
       "    </tr>\n",
       "    <tr>\n",
       "      <th>2</th>\n",
       "      <td>1007</td>\n",
       "      <td>TSI</td>\n",
       "      <td>DIS</td>\n",
       "      <td>-370.19382</td>\n",
       "      <td>116.20629</td>\n",
       "      <td>17.901112</td>\n",
       "      <td>49.743855</td>\n",
       "      <td>-7.893039</td>\n",
       "      <td>19.238430</td>\n",
       "      <td>-12.107360</td>\n",
       "      <td>...</td>\n",
       "      <td>-0.927797</td>\n",
       "      <td>1.177180</td>\n",
       "      <td>1900.091707</td>\n",
       "      <td>3297.628568</td>\n",
       "      <td>1536.535534</td>\n",
       "      <td>0</td>\n",
       "      <td>0</td>\n",
       "      <td>0</td>\n",
       "      <td>0</td>\n",
       "      <td>1</td>\n",
       "    </tr>\n",
       "    <tr>\n",
       "      <th>3</th>\n",
       "      <td>1026</td>\n",
       "      <td>DFA</td>\n",
       "      <td>NEU</td>\n",
       "      <td>-363.48978</td>\n",
       "      <td>135.66432</td>\n",
       "      <td>18.392607</td>\n",
       "      <td>44.086580</td>\n",
       "      <td>2.274494</td>\n",
       "      <td>8.899861</td>\n",
       "      <td>-18.373417</td>\n",
       "      <td>...</td>\n",
       "      <td>1.568683</td>\n",
       "      <td>1.446087</td>\n",
       "      <td>1632.537361</td>\n",
       "      <td>2494.882437</td>\n",
       "      <td>1195.103489</td>\n",
       "      <td>0</td>\n",
       "      <td>0</td>\n",
       "      <td>0</td>\n",
       "      <td>0</td>\n",
       "      <td>1</td>\n",
       "    </tr>\n",
       "    <tr>\n",
       "      <th>4</th>\n",
       "      <td>1088</td>\n",
       "      <td>ITS</td>\n",
       "      <td>ANG</td>\n",
       "      <td>-335.75950</td>\n",
       "      <td>108.33419</td>\n",
       "      <td>8.823876</td>\n",
       "      <td>42.977585</td>\n",
       "      <td>-8.425694</td>\n",
       "      <td>25.288710</td>\n",
       "      <td>-23.794130</td>\n",
       "      <td>...</td>\n",
       "      <td>-1.547805</td>\n",
       "      <td>1.565587</td>\n",
       "      <td>1915.807117</td>\n",
       "      <td>3553.740832</td>\n",
       "      <td>1846.447807</td>\n",
       "      <td>0</td>\n",
       "      <td>0</td>\n",
       "      <td>0</td>\n",
       "      <td>0</td>\n",
       "      <td>1</td>\n",
       "    </tr>\n",
       "  </tbody>\n",
       "</table>\n",
       "<p>5 rows × 168 columns</p>\n",
       "</div>"
      ],
      "text/plain": [
       "   actor sentence emotion      mfcc0      mfcc1      mfcc2      mfcc3  \\\n",
       "0   1003      IEO     FEA -442.13385  148.66585 -12.393108  43.702293   \n",
       "1   1035      IEO     SAD -456.98022  147.26843  18.193262  57.780663   \n",
       "2   1007      TSI     DIS -370.19382  116.20629  17.901112  49.743855   \n",
       "3   1026      DFA     NEU -363.48978  135.66432  18.392607  44.086580   \n",
       "4   1088      ITS     ANG -335.75950  108.33419   8.823876  42.977585   \n",
       "\n",
       "       mfcc4      mfcc5      mfcc6  ...  c_sync10b  c_sync11b  \\\n",
       "0 -14.106911  31.666414 -21.379318  ...   0.901887   0.000000   \n",
       "1 -19.561325  29.044651 -16.329254  ...  -0.954247  -0.486541   \n",
       "2  -7.893039  19.238430 -12.107360  ...  -0.927797   1.177180   \n",
       "3   2.274494   8.899861 -18.373417  ...   1.568683   1.446087   \n",
       "4  -8.425694  25.288710 -23.794130  ...  -1.547805   1.565587   \n",
       "\n",
       "   spectral_bandwidth  spectral_rolloff  spectral_centroids  level_HI  \\\n",
       "0         1753.417589       2785.441081         1345.206303         0   \n",
       "1         1832.596789       2824.083411         1185.014857         0   \n",
       "2         1900.091707       3297.628568         1536.535534         0   \n",
       "3         1632.537361       2494.882437         1195.103489         0   \n",
       "4         1915.807117       3553.740832         1846.447807         0   \n",
       "\n",
       "   level_LO  level_MD  level_X  level_XX  \n",
       "0         0         1        0         0  \n",
       "1         0         1        0         0  \n",
       "2         0         0        0         1  \n",
       "3         0         0        0         1  \n",
       "4         0         0        0         1  \n",
       "\n",
       "[5 rows x 168 columns]"
      ]
     },
     "execution_count": 74,
     "metadata": {},
     "output_type": "execute_result"
    }
   ],
   "source": [
    "df.head()"
   ]
  },
  {
   "cell_type": "code",
   "execution_count": 75,
   "id": "1e9acb13-01fd-4c38-bcc9-c2598ba28c86",
   "metadata": {},
   "outputs": [
    {
     "data": {
      "text/plain": [
       "(7442, 168)"
      ]
     },
     "execution_count": 75,
     "metadata": {},
     "output_type": "execute_result"
    }
   ],
   "source": [
    "df.shape"
   ]
  },
  {
   "cell_type": "markdown",
   "id": "a98663f8-4ac4-4d0e-bec4-87be50936e9d",
   "metadata": {},
   "source": [
    "#### **Replacing Emotion feature by integer values, for model training** :"
   ]
  },
  {
   "cell_type": "code",
   "execution_count": 76,
   "id": "1a675ec0-caa4-4f24-b84e-62844aee1732",
   "metadata": {},
   "outputs": [],
   "source": [
    "emotions = {'ANG':0, 'DIS':1, 'FEA':2, 'HAP':3, 'NEU':4, 'SAD':5}"
   ]
  },
  {
   "cell_type": "code",
   "execution_count": 77,
   "id": "8f00419b-f07a-4631-815f-a5719323053f",
   "metadata": {},
   "outputs": [],
   "source": [
    "df.emotion.replace(emotions, inplace = True)"
   ]
  },
  {
   "cell_type": "markdown",
   "id": "dfd3a33f-2567-4504-8105-55ff0e308b11",
   "metadata": {},
   "source": [
    "#### **Handling Missing Values** :"
   ]
  },
  {
   "cell_type": "code",
   "execution_count": 78,
   "id": "fd0aa46f-82c6-4e3d-964d-e6043226b51b",
   "metadata": {},
   "outputs": [],
   "source": [
    "import warnings \n",
    "warnings.filterwarnings('ignore')"
   ]
  },
  {
   "cell_type": "code",
   "execution_count": 79,
   "id": "2b824d25-6d1d-4d42-bca7-7b1b729082e6",
   "metadata": {},
   "outputs": [],
   "source": [
    "df.fillna(df.mean(), inplace=True)"
   ]
  },
  {
   "cell_type": "code",
   "execution_count": 80,
   "id": "9786a894-1382-44f1-8770-4ce83652c192",
   "metadata": {},
   "outputs": [
    {
     "data": {
      "text/plain": [
       "0"
      ]
     },
     "execution_count": 80,
     "metadata": {},
     "output_type": "execute_result"
    }
   ],
   "source": [
    "df.isna().sum().sum()"
   ]
  },
  {
   "cell_type": "markdown",
   "id": "09377033-ec25-4d6e-abd2-c9cbe15a5802",
   "metadata": {},
   "source": [
    "#### **Splitting the dataset into training and testing sets** :"
   ]
  },
  {
   "cell_type": "code",
   "execution_count": 81,
   "id": "5406dc4e-2780-4393-a0b7-aa8377d8d8d8",
   "metadata": {},
   "outputs": [],
   "source": [
    "df.drop(['sentence','actor'], axis=1, inplace=True)"
   ]
  },
  {
   "cell_type": "code",
   "execution_count": 82,
   "id": "a4f2cfea-8370-44c8-8547-d7d03fa4f4f7",
   "metadata": {},
   "outputs": [],
   "source": [
    "from sklearn.model_selection import train_test_split\n",
    "train, test = train_test_split(df, test_size=0.30)"
   ]
  },
  {
   "cell_type": "code",
   "execution_count": 83,
   "id": "53987c8e-577b-46a8-ae3a-02458308d0d5",
   "metadata": {},
   "outputs": [],
   "source": [
    "train_x, train_y = train.drop('emotion', axis=1), train.emotion.values\n",
    "test_x, test_y = test.drop('emotion', axis=1), test.emotion.values"
   ]
  },
  {
   "cell_type": "markdown",
   "id": "d3f240ff-6d7b-410d-807b-27613ab66469",
   "metadata": {},
   "source": [
    "#### **Scaling the dataset** :"
   ]
  },
  {
   "cell_type": "code",
   "execution_count": 84,
   "id": "a688f72a-f8f9-4cb7-b525-030366e0fad6",
   "metadata": {},
   "outputs": [],
   "source": [
    "from sklearn.preprocessing import StandardScaler\n",
    "sc = StandardScaler()\n",
    "train_x, test_x = sc.fit_transform(train_x), sc.fit_transform(test_x)"
   ]
  },
  {
   "cell_type": "markdown",
   "id": "9a4fd08d-7340-4a2e-8794-1c98f62dc5f1",
   "metadata": {},
   "source": [
    "#### **Building a Deep Neural Network**:"
   ]
  },
  {
   "cell_type": "code",
   "execution_count": 121,
   "id": "2517444a-0064-4433-b786-628063b90df4",
   "metadata": {},
   "outputs": [],
   "source": [
    "from tensorflow.keras.models import Sequential\n",
    "from tensorflow.keras.layers import Dense,Activation,Dropout\n",
    "\n",
    "model=Sequential()\n",
    "\n",
    "model.add(Dense(100,input_shape=(165,)))\n",
    "model.add(Activation('sigmoid'))\n",
    "\n",
    "model.add(Dense(200))\n",
    "model.add(Activation('sigmoid'))\n",
    "\n",
    "model.add(Dense(100))\n",
    "model.add(Activation('sigmoid'))\n",
    "model.add(Dropout(0.5))\n",
    "\n",
    "model.add(Dense(6))\n",
    "model.add(Activation('sigmoid'))"
   ]
  },
  {
   "cell_type": "markdown",
   "id": "20884385-2a8a-477a-9930-3fcc6ed5d353",
   "metadata": {},
   "source": [
    "#### **Compiling and Fitting the model to training data**:"
   ]
  },
  {
   "cell_type": "code",
   "execution_count": 122,
   "id": "392523f9-8f1b-47f6-b7d4-9626e08cd006",
   "metadata": {},
   "outputs": [],
   "source": [
    "model.compile(loss='sparse_categorical_crossentropy',metrics=['accuracy'],optimizer='adam')"
   ]
  },
  {
   "cell_type": "code",
   "execution_count": 123,
   "id": "78ecd324-df8b-467c-a042-9ba61636c794",
   "metadata": {},
   "outputs": [
    {
     "name": "stdout",
     "output_type": "stream",
     "text": [
      "Epoch 1/60\n",
      "53/53 [==============================] - 1s 4ms/step - loss: 1.9034 - accuracy: 0.1680\n",
      "Epoch 2/60\n",
      "53/53 [==============================] - 0s 4ms/step - loss: 1.7496 - accuracy: 0.2267\n",
      "Epoch 3/60\n",
      "53/53 [==============================] - 0s 4ms/step - loss: 1.5978 - accuracy: 0.3204\n",
      "Epoch 4/60\n",
      "53/53 [==============================] - 0s 4ms/step - loss: 1.5419 - accuracy: 0.3456\n",
      "Epoch 5/60\n",
      "53/53 [==============================] - 0s 4ms/step - loss: 1.5138 - accuracy: 0.3584\n",
      "Epoch 6/60\n",
      "53/53 [==============================] - 0s 4ms/step - loss: 1.4921 - accuracy: 0.3713\n",
      "Epoch 7/60\n",
      "53/53 [==============================] - 0s 4ms/step - loss: 1.4708 - accuracy: 0.3899\n",
      "Epoch 8/60\n",
      "53/53 [==============================] - 0s 3ms/step - loss: 1.4548 - accuracy: 0.3966\n",
      "Epoch 9/60\n",
      "53/53 [==============================] - 0s 4ms/step - loss: 1.4347 - accuracy: 0.4058\n",
      "Epoch 10/60\n",
      "53/53 [==============================] - 0s 4ms/step - loss: 1.4087 - accuracy: 0.4220\n",
      "Epoch 11/60\n",
      "53/53 [==============================] - 0s 3ms/step - loss: 1.3975 - accuracy: 0.4321\n",
      "Epoch 12/60\n",
      "53/53 [==============================] - 0s 4ms/step - loss: 1.3778 - accuracy: 0.4429\n",
      "Epoch 13/60\n",
      "53/53 [==============================] - 0s 5ms/step - loss: 1.3627 - accuracy: 0.4519\n",
      "Epoch 14/60\n",
      "53/53 [==============================] - 0s 4ms/step - loss: 1.3445 - accuracy: 0.4575\n",
      "Epoch 15/60\n",
      "53/53 [==============================] - 0s 4ms/step - loss: 1.3298 - accuracy: 0.4719\n",
      "Epoch 16/60\n",
      "53/53 [==============================] - 0s 4ms/step - loss: 1.3117 - accuracy: 0.4830\n",
      "Epoch 17/60\n",
      "53/53 [==============================] - 0s 4ms/step - loss: 1.3099 - accuracy: 0.4749\n",
      "Epoch 18/60\n",
      "53/53 [==============================] - 0s 4ms/step - loss: 1.2839 - accuracy: 0.4836\n",
      "Epoch 19/60\n",
      "53/53 [==============================] - 0s 5ms/step - loss: 1.2923 - accuracy: 0.4882\n",
      "Epoch 20/60\n",
      "53/53 [==============================] - 0s 4ms/step - loss: 1.2664 - accuracy: 0.4963\n",
      "Epoch 21/60\n",
      "53/53 [==============================] - 0s 6ms/step - loss: 1.2513 - accuracy: 0.5078\n",
      "Epoch 22/60\n",
      "53/53 [==============================] - 0s 4ms/step - loss: 1.2501 - accuracy: 0.5020\n",
      "Epoch 23/60\n",
      "53/53 [==============================] - 0s 4ms/step - loss: 1.2483 - accuracy: 0.5007\n",
      "Epoch 24/60\n",
      "53/53 [==============================] - 0s 4ms/step - loss: 1.2250 - accuracy: 0.5185\n",
      "Epoch 25/60\n",
      "53/53 [==============================] - 0s 4ms/step - loss: 1.2249 - accuracy: 0.5149\n",
      "Epoch 26/60\n",
      "53/53 [==============================] - 0s 4ms/step - loss: 1.2105 - accuracy: 0.5216\n",
      "Epoch 27/60\n",
      "53/53 [==============================] - 0s 4ms/step - loss: 1.2087 - accuracy: 0.5216\n",
      "Epoch 28/60\n",
      "53/53 [==============================] - 0s 4ms/step - loss: 1.1943 - accuracy: 0.5299\n",
      "Epoch 29/60\n",
      "53/53 [==============================] - 0s 4ms/step - loss: 1.1792 - accuracy: 0.5318\n",
      "Epoch 30/60\n",
      "53/53 [==============================] - 0s 4ms/step - loss: 1.1709 - accuracy: 0.5352\n",
      "Epoch 31/60\n",
      "53/53 [==============================] - 0s 3ms/step - loss: 1.1729 - accuracy: 0.5371\n",
      "Epoch 32/60\n",
      "53/53 [==============================] - 0s 4ms/step - loss: 1.1510 - accuracy: 0.5533\n",
      "Epoch 33/60\n",
      "53/53 [==============================] - 0s 4ms/step - loss: 1.1432 - accuracy: 0.5506\n",
      "Epoch 34/60\n",
      "53/53 [==============================] - 0s 5ms/step - loss: 1.1319 - accuracy: 0.5623\n",
      "Epoch 35/60\n",
      "53/53 [==============================] - 0s 4ms/step - loss: 1.1240 - accuracy: 0.5682\n",
      "Epoch 36/60\n",
      "53/53 [==============================] - 0s 4ms/step - loss: 1.1223 - accuracy: 0.5554\n",
      "Epoch 37/60\n",
      "53/53 [==============================] - 0s 3ms/step - loss: 1.0995 - accuracy: 0.5734\n",
      "Epoch 38/60\n",
      "53/53 [==============================] - 0s 4ms/step - loss: 1.0857 - accuracy: 0.5763\n",
      "Epoch 39/60\n",
      "53/53 [==============================] - 0s 4ms/step - loss: 1.0763 - accuracy: 0.5848\n",
      "Epoch 40/60\n",
      "53/53 [==============================] - 0s 4ms/step - loss: 1.0664 - accuracy: 0.5811\n",
      "Epoch 41/60\n",
      "53/53 [==============================] - 0s 5ms/step - loss: 1.0523 - accuracy: 0.5901\n",
      "Epoch 42/60\n",
      "53/53 [==============================] - 0s 5ms/step - loss: 1.0341 - accuracy: 0.5969\n",
      "Epoch 43/60\n",
      "53/53 [==============================] - 0s 4ms/step - loss: 1.0244 - accuracy: 0.6024\n",
      "Epoch 44/60\n",
      "53/53 [==============================] - 0s 4ms/step - loss: 1.0233 - accuracy: 0.6034\n",
      "Epoch 45/60\n",
      "53/53 [==============================] - 0s 4ms/step - loss: 1.0023 - accuracy: 0.6068\n",
      "Epoch 46/60\n",
      "53/53 [==============================] - 0s 4ms/step - loss: 0.9927 - accuracy: 0.6137\n",
      "Epoch 47/60\n",
      "53/53 [==============================] - 0s 3ms/step - loss: 0.9707 - accuracy: 0.6270\n",
      "Epoch 48/60\n",
      "53/53 [==============================] - 0s 4ms/step - loss: 0.9577 - accuracy: 0.6331\n",
      "Epoch 49/60\n",
      "53/53 [==============================] - 0s 4ms/step - loss: 0.9402 - accuracy: 0.6374\n",
      "Epoch 50/60\n",
      "53/53 [==============================] - 0s 4ms/step - loss: 0.9245 - accuracy: 0.6448\n",
      "Epoch 51/60\n",
      "53/53 [==============================] - 0s 4ms/step - loss: 0.9015 - accuracy: 0.6491\n",
      "Epoch 52/60\n",
      "53/53 [==============================] - 0s 4ms/step - loss: 0.9028 - accuracy: 0.6500\n",
      "Epoch 53/60\n",
      "53/53 [==============================] - 0s 4ms/step - loss: 0.8774 - accuracy: 0.6587\n",
      "Epoch 54/60\n",
      "53/53 [==============================] - 0s 4ms/step - loss: 0.8657 - accuracy: 0.6704\n",
      "Epoch 55/60\n",
      "53/53 [==============================] - 0s 4ms/step - loss: 0.8499 - accuracy: 0.6790\n",
      "Epoch 56/60\n",
      "53/53 [==============================] - 0s 4ms/step - loss: 0.8352 - accuracy: 0.6811\n",
      "Epoch 57/60\n",
      "53/53 [==============================] - 0s 4ms/step - loss: 0.8122 - accuracy: 0.6957\n",
      "Epoch 58/60\n",
      "53/53 [==============================] - 0s 3ms/step - loss: 0.7958 - accuracy: 0.7015\n",
      "Epoch 59/60\n",
      "53/53 [==============================] - 0s 3ms/step - loss: 0.7781 - accuracy: 0.7151\n",
      "Epoch 60/60\n",
      "53/53 [==============================] - 0s 4ms/step - loss: 0.7551 - accuracy: 0.7211\n"
     ]
    },
    {
     "data": {
      "text/plain": [
       "<keras.callbacks.History at 0x7f50d8747f70>"
      ]
     },
     "execution_count": 123,
     "metadata": {},
     "output_type": "execute_result"
    }
   ],
   "source": [
    "model.fit(train_x, train_y, batch_size=100, epochs=60)"
   ]
  },
  {
   "cell_type": "markdown",
   "id": "8282d113-b908-479e-a3e1-21af64d77a2f",
   "metadata": {},
   "source": [
    "#### **Evaluating the model on testing set**:"
   ]
  },
  {
   "cell_type": "code",
   "execution_count": 124,
   "id": "57b6aea7-67ba-416b-8545-1ae967e1e2ae",
   "metadata": {},
   "outputs": [
    {
     "name": "stdout",
     "output_type": "stream",
     "text": [
      "112/112 [==============================] - 0s 2ms/step - loss: 1.8027 - accuracy: 0.4111\n"
     ]
    },
    {
     "data": {
      "text/plain": [
       "[1.8027468919754028, 0.411106139421463]"
      ]
     },
     "execution_count": 124,
     "metadata": {},
     "output_type": "execute_result"
    }
   ],
   "source": [
    "model.evaluate(test_x, test_y, batch_size=20)"
   ]
  },
  {
   "cell_type": "markdown",
   "id": "c622e1e4-c17e-41bb-be28-ef896273b033",
   "metadata": {},
   "source": [
    "#### **Saving the trained model** :"
   ]
  },
  {
   "cell_type": "code",
   "execution_count": 111,
   "id": "dcbd39d3-e338-41f2-94fa-576c93ec5d33",
   "metadata": {},
   "outputs": [],
   "source": [
    "import pickle\n",
    "with open('speech_emotion_classifier.pkl','wb') as f:\n",
    "    pickle.dump(model, f)"
   ]
  },
  {
   "cell_type": "markdown",
   "id": "02982701-f6c6-4072-97f2-f7b4421ada22",
   "metadata": {},
   "source": [
    "#### **Loading the model for classification** :"
   ]
  },
  {
   "cell_type": "code",
   "execution_count": 136,
   "id": "2ea53123-3a43-42fa-ab42-44f34f92ad97",
   "metadata": {},
   "outputs": [],
   "source": [
    "emotions = {'Angry':0, 'Disgust':1, 'Fear':2, 'Happy/Joy':3, 'Neutral':4, 'Sad':5}\n",
    "emo = list(emotions.keys())"
   ]
  },
  {
   "cell_type": "code",
   "execution_count": 140,
   "id": "de601dae-8050-4243-81ab-1d897b576a70",
   "metadata": {},
   "outputs": [
    {
     "name": "stdout",
     "output_type": "stream",
     "text": [
      "1/1 [==============================] - 0s 67ms/step\n",
      "Fear\n"
     ]
    }
   ],
   "source": [
    "with open('speech_emotion_classifier.pkl','rb') as f:\n",
    "    loaded = pickle.load(f)\n",
    "    pred = loaded.predict(train_x[3456].reshape((1,165)))\n",
    "    print(emo[int( np.where( pred == pred.max() )[1] )])"
   ]
  }
 ],
 "metadata": {
  "kernelspec": {
   "display_name": "Python 3 (ipykernel)",
   "language": "python",
   "name": "python3"
  },
  "language_info": {
   "codemirror_mode": {
    "name": "ipython",
    "version": 3
   },
   "file_extension": ".py",
   "mimetype": "text/x-python",
   "name": "python",
   "nbconvert_exporter": "python",
   "pygments_lexer": "ipython3",
   "version": "3.10.6"
  }
 },
 "nbformat": 4,
 "nbformat_minor": 5
}
